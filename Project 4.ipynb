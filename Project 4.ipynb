{
 "cells": [
  {
   "cell_type": "markdown",
   "metadata": {},
   "source": [
    "## Project 4 (Chapter 5)\n",
    "### Physics/Biology 212, Spring 2020\n",
    "\n",
    "Laird Stewart <br>\n",
    "Date: 04/18/20"
   ]
  },
  {
   "cell_type": "markdown",
   "metadata": {},
   "source": [
    "### Introduction\n",
    "Diffusion-limited aggregation is a natural process where particles or molecules undergoing brownian motion stick together to form a cluster. Diffusion-limited aggregation or DLA occurs in many different cases including the creation of snowflakes, or zinc ions aggregating onto electrodes. This project will use python to model this phenomenon. "
   ]
  },
  {
   "cell_type": "markdown",
   "metadata": {},
   "source": [
    "### Problem Analysis\n",
    "In order to model DLA there are two main components. First, simmulating browinan motion. And second having each particle 'stick' to a central point to form an expanding cluster. \n",
    "\n",
    "The first component will be accomplished by generating a random direction at discrrete time intervals (left, right, up, down) and moving the walker (brownian motion particle) in that direction. \n",
    "\n",
    "The second component is a bit trickier. Insead of just having a dot that can move in one of the four directions in an x,y plane, we will place each walker into a lattice represented by a matrix in code and each step will simply consist of updating the walker's position in the matrix. By running these random walks inside of a matrix this allows us to store boolean information within it (1 for a particle, 0 for empty space) this will help us to form and keep track of the cluster. \n",
    "\n",
    "There isn't much math to derive here, the one thing that should be said however, is that even though our random walk is discrete in time and distance over large time and spatial scales this is really no different than a discrete time or descrete space walk, or any combination of the two. "
   ]
  },
  {
   "cell_type": "markdown",
   "metadata": {},
   "source": [
    "### Model Development\n",
    "As I said above, there really isn't much math or a model to develop here most of the work in this project comes from developing the actual code. We aren't modeling any sort of mathematical equation, instead we are creating a simmulation of random walks. "
   ]
  },
  {
   "cell_type": "markdown",
   "metadata": {},
   "source": [
    "### Code Analysis\n",
    "My code is built upon the starter code and expands upon the following things: \n",
    "- change start walker function so it starts in a (slightly larger) circle around the cluster (done) \n",
    "- change run walker so the agent can't leave the circle instead of the entire lattice (done)\n",
    "- monitor horizontal width of the cluster at each point in time (and plot it) (done)\n",
    "- combine frames into a movie (8.2 in textbook) (done)\n",
    "\n",
    "\n",
    "**First, I will explain how the starter code works in more depth:** <br>\n",
    "The starter code contains three main sections: start walker, run walker, and the actual initialization of the lattice and loop running each walker in the lattice. Start walker simply chooses a random position along the edge of the lattice for the walker to begin at. Run walker loops through a series of random steps of the walker simmulating brownian motion. Run walker does not allow the walker to exit the lattice, this is called 'deflection'. It could have also been implemented so that if a walker left the lattice we delete it and try again. Finally, run walker terminates once the walker comes in contact with a neighboring cell in the matrix that is part of the cluster (we represent the cluster with booleans (1, 0's)). \n",
    "\n",
    "**Now, I will explain how I have modified the code to meet the above criteria:** <br>\n",
    "The goal of my additions are to make the process run faster and allow us to run the process on much larger lattices. I accomplish this by releasing each walker randomly in a circle around the cluster. This immediately requires two parts: \n",
    "1. finding the radius of the cluster at any given time, \n",
    "2. get a random starting point on that circle for the walker to begin in.\n",
    "\n",
    "To find the maximum radius of the cluster I wrote a helper function called 'get_radius'. This function loops through the lattice to find the part of the cluster furthest from the center. **note on runtime**. Once we have the radius of the cluster, I simply generate a random angle and start the walker at that angle (a bit further than the radius). If the walker starts directly on the radius, some randomness is lost, and in the beggining each walker will just accumulate on top of eachother. <br>\n",
    "Next, we don't want the walker to leave that radius we started it at because that would defeat the whole purpose. To remedy this after generating each new step of the walker I check if that would cause it to leave the radius, if it would, I generate a new step. <br>\n",
    "To monitor the horizontal width of the cluster I wrote a helper method very simmilar to 'get_radius', again this runs in $O(m^2)$ time wich is bad. <br> \n",
    "Finally to convert the simmulation into a movie I wrote a loop that saves the current state of the lattice as a .png file and then use an external library to stich those .png files into a move in html form. <br> \n",
    "Finally, the last thing that I added to my code was raising an error once the radius of the cluster got too large for the lattice to contain it. If I did not raise this error we could potentially be starting walkers outside of the lattice which would cause an out of bounds error. I thought about just starting the walkers on the wall of the lattice after this point, but that defeats the purpose of the symmetry of starting in a cirlce. \n",
    "<br>\n",
    "<br>\n",
    "\n",
    "**Runtime Note** <br>\n",
    "If the size of the lattice is m, this (get_radius) runs in $O(m^2)$ time, which is not ideal, but should still be faster than a hugely long random walk if we have a large matrix. If I wanted to further increase the run-time of this algoritm I wouldn't search the entire lattice for the furthest out point in the cluster, but instead keep track of the previous radius and only search a bit further out from that. This would cause the algorithm at each step to run on $O(r^2)$ time where r is the previous radius of the cluster. To improve this even further, we could, perhaps, only search in an outer ring for the furthest agent, this would cut the run time drastically. \n"
   ]
  },
  {
   "cell_type": "markdown",
   "metadata": {},
   "source": [
    "### Model Implementaiton"
   ]
  },
  {
   "cell_type": "code",
   "execution_count": 34,
   "metadata": {},
   "outputs": [],
   "source": [
    "# Importing Modules\n",
    "import numpy as np\n",
    "import numpy.random as nprnd\n",
    "import matplotlib.pyplot as plt\n",
    "from html_movie import movie  # special module \n",
    "\n",
    "%matplotlib inline "
   ]
  },
  {
   "cell_type": "code",
   "execution_count": 20,
   "metadata": {},
   "outputs": [],
   "source": [
    "def get_width(lattice):\n",
    "    # loop through entire matrix and find min and max horizontal coordinate of the cluster\n",
    "    L = lattice.shape[0]\n",
    "    x_min = L  # make these opposites, so we can update them\n",
    "    x_max = 0\n",
    "    for i in range(0, L):\n",
    "        for j in range(0, L):\n",
    "            position = lattice[i][j]\n",
    "            if position == 1 and j < x_min:  # update x_min\n",
    "                x_min = j\n",
    "            if position == 1 and j > x_max:  # update x_max\n",
    "                x_max = j\n",
    "    return x_max - x_min"
   ]
  },
  {
   "cell_type": "code",
   "execution_count": 21,
   "metadata": {},
   "outputs": [],
   "source": [
    "def get_radius(lattice):\n",
    "    # return radius of furthest out agent from the center\n",
    "    L = lattice.shape[0]\n",
    "    x = 0  # update these as we find further and further out points\n",
    "    y = 0\n",
    "    for i in range(0, L):\n",
    "        for j in range(0, L):\n",
    "            position = lattice[i][j]\n",
    "            x_cord = j - L / 2  # get coordinates in terms of center\n",
    "            y_cord = i - L / 2\n",
    "            if position == 1 and np.sqrt(x_cord ** 2 + y_cord ** 2) > np.sqrt(x ** 2 + y ** 2):  # compare radii\n",
    "                x = x_cord\n",
    "                y = y_cord\n",
    "    radius = np.sqrt(x ** 2 + y ** 2)\n",
    "    if radius + 6 > L / 2:  # i add 5 to the radius in 'start_walker_circle' so this means i could go outside of it\n",
    "        raise NameError(\"lattice is too small to contain the cluster\")\n",
    "\n",
    "    return radius"
   ]
  },
  {
   "cell_type": "code",
   "execution_count": 22,
   "metadata": {},
   "outputs": [],
   "source": [
    "def start_walker_circle(lattice):\n",
    "    # return x and y coordinates of where to start the next random walker based on the current lattice\n",
    "    r = get_radius(lattice)\n",
    "    r = r + 5  # make radius slightly bigger so it still has some randomness\n",
    "    angle = nprnd.random() * 2 * np.pi\n",
    "    x = int(np.sin(angle) * r)\n",
    "    y = int(np.cos(angle) * r)\n",
    "    return int(L / 2) + x, int(L / 2) + y"
   ]
  },
  {
   "cell_type": "code",
   "execution_count": 23,
   "metadata": {},
   "outputs": [],
   "source": [
    "def run_walker_circle(lattice):\n",
    "    L = lattice.shape[0]  # size of lattice\n",
    "    r = get_radius(lattice)  # radius of lattice\n",
    "    x, y = start_walker_circle(lattice)  # starting point of walker\n",
    "\n",
    "    while True:  # run until the walker gets stuck\n",
    "        while True:  # generate potential moves that don't run into the circle boundary\n",
    "            # generate random step\n",
    "            directions = int(np.floor(nprnd.random(1) * 4))\n",
    "            dx = (directions == 0) - 1.0 * (directions == 1)\n",
    "            dy = (directions == 2) - 1.0 * (directions == 3)\n",
    "\n",
    "            # check that we would still within the radius\n",
    "            potential_new_x = x + dx\n",
    "            potential_new_y = y + dy\n",
    "            potential_new_radius = np.sqrt((L / 2 - potential_new_x) ** 2 + (L / 2 - potential_new_y) ** 2)\n",
    "\n",
    "            if potential_new_radius < r + 5:  # if we are inside, go to next step \n",
    "                break\n",
    "\n",
    "        x = x + int(dx)  # move the walker\n",
    "        y = y + int(dy)\n",
    "        # check agent's new neigbors\n",
    "        neighbors_cluster = lattice[x, y + 1] + lattice[x, y - 1] + lattice[x + 1, y] + lattice[x - 1, y]\n",
    "        if neighbors_cluster > 0:  # if a neighbor is part of the cluster\n",
    "            lattice[x, y] = 1  # add the walker to the cluster\n",
    "            break\n",
    "    return lattice"
   ]
  },
  {
   "cell_type": "code",
   "execution_count": 24,
   "metadata": {},
   "outputs": [
    {
     "name": "stdout",
     "output_type": "stream",
     "text": [
      "Attached walker No. 0\n",
      "Attached walker No. 100\n",
      "Attached walker No. 200\n",
      "Attached walker No. 300\n",
      "Attached walker No. 400\n",
      "Attached walker No. 500\n",
      "Attached walker No. 600\n",
      "Attached walker No. 700\n",
      "Attached walker No. 800\n",
      "Attached walker No. 900\n"
     ]
    }
   ],
   "source": [
    "N_walkers = 1000  # how many walkers in a cluster\n",
    "L = 120  # lattice size\n",
    "lattice = np.zeros((L, L))  # the lattice itself\n",
    "lattice[int(L/2), int(L/2)] = 1   # seeding the DLA cluster\n",
    "width = np.zeros(N_walkers)  # array to keep track of width in\n",
    "t = np.arange(0, N_walkers)\n",
    "\n",
    "# release N_walkers walkers and build the DLA cluster on the lattice.\n",
    "for i in np.arange(N_walkers):\n",
    "    lattice = run_walker_circle(lattice)\n",
    "    width[i] = get_width(lattice)\n",
    "    if np.round(i / 100) == i / 100:  # note every 100th walker\n",
    "        print('Attached walker No. ' + str(i))  # print the progress"
   ]
  },
  {
   "cell_type": "code",
   "execution_count": 25,
   "metadata": {},
   "outputs": [
    {
     "data": {
      "image/png": "[encoded data removed]",
      "text/plain": [
       "<Figure size 432x288 with 1 Axes>"
      ]
     },
     "metadata": {
      "needs_background": "light"
     },
     "output_type": "display_data"
    }
   ],
   "source": [
    "# plot the final cluster\n",
    "plt.imshow(lattice, cmap='Greys', interpolation='nearest')\n",
    "plt.title('DLA cluster')\n",
    "plt.show()"
   ]
  },
  {
   "cell_type": "code",
   "execution_count": 26,
   "metadata": {},
   "outputs": [
    {
     "data": {
      "image/png": "[encoded data removed]",
      "text/plain": [
       "<Figure size 432x288 with 1 Axes>"
      ]
     },
     "metadata": {
      "needs_background": "light"
     },
     "output_type": "display_data"
    }
   ],
   "source": [
    "# Plot the width over time \n",
    "plt.plot(t, width)\n",
    "plt.title(\"total cluster width vs. time\")\n",
    "plt.ylabel(\"cluster width\")\n",
    "plt.xlabel(\"num walkers released / time\")\n",
    "plt.show()"
   ]
  },
  {
   "cell_type": "code",
   "execution_count": 7,
   "metadata": {},
   "outputs": [
    {
     "data": {
      "image/png": "[encoded data removed]",
      "text/plain": [
       "<Figure size 720x720 with 1 Axes>"
      ]
     },
     "metadata": {
      "needs_background": "light"
     },
     "output_type": "display_data"
    }
   ],
   "source": [
    "# Cluster Animation\n",
    "N_walkers = 100  # THIS TAKES A LONG TIME, I WOULD SUGGEST A SMALLER NUMBER \n",
    "L = 100  # lattice size\n",
    "lattice = np.zeros((L, L))  # the lattice itself\n",
    "lattice[int(L/2), int(L/2)] = 1   # seeding the DLA cluster\n",
    "width = np.zeros(N_walkers)  # array to keep track of width in\n",
    "t = np.arange(0, N_walkers)\n",
    "\n",
    "# initilization of the figure and file system \n",
    "\n",
    "plt.close('all')\n",
    "fig = plt.figure(figsize=(10, 10))\n",
    "ax = plt.axes(xlim=(0, L), ylim=(0, L))\n",
    "file_name = \"{:03d}_movie.png\"\n",
    "\n",
    "# for loop to save each step as a .png file\n",
    "\n",
    "for i in range(N_walkers):  # num frames same as num walkers\n",
    "    lattice = run_walker_circle(lattice)\n",
    "    width[i] = get_width(lattice)\n",
    "    plt.imshow(lattice, cmap='Greys', interpolation='nearest')\n",
    "    plt.title('DLA cluster')\n",
    "    plt.savefig(file_name.format(i))"
   ]
  },
  {
   "cell_type": "code",
   "execution_count": 8,
   "metadata": {},
   "outputs": [
    {
     "name": "stdout",
     "output_type": "stream",
     "text": [
      "\n",
      "\n",
      "\n",
      "Found 100 files of the format *.png.\n",
      "\n",
      "Making HTML code for displaying 000_movie.png, 001_movie.png, 002_movie.png, 003_movie.png, 004_movie.png, 005_movie.png, 006_movie.png, 007_movie.png, 008_movie.png, 009_movie.png, 010_movie.png, 011_movie.png, 012_movie.png, 013_movie.png, 014_movie.png, 015_movie.png, 016_movie.png, 017_movie.png, 018_movie.png, 019_movie.png, 020_movie.png, 021_movie.png, 022_movie.png, 023_movie.png, 024_movie.png, 025_movie.png, 026_movie.png, 027_movie.png, 028_movie.png, 029_movie.png, 030_movie.png, 031_movie.png, 032_movie.png, 033_movie.png, 034_movie.png, 035_movie.png, 036_movie.png, 037_movie.png, 038_movie.png, 039_movie.png, 040_movie.png, 041_movie.png, 042_movie.png, 043_movie.png, 044_movie.png, 045_movie.png, 046_movie.png, 047_movie.png, 048_movie.png, 049_movie.png, 050_movie.png, 051_movie.png, 052_movie.png, 053_movie.png, 054_movie.png, 055_movie.png, 056_movie.png, 057_movie.png, 058_movie.png, 059_movie.png, 060_movie.png, 061_movie.png, 062_movie.png, 063_movie.png, 064_movie.png, 065_movie.png, 066_movie.png, 067_movie.png, 068_movie.png, 069_movie.png, 070_movie.png, 071_movie.png, 072_movie.png, 073_movie.png, 074_movie.png, 075_movie.png, 076_movie.png, 077_movie.png, 078_movie.png, 079_movie.png, 080_movie.png, 081_movie.png, 082_movie.png, 083_movie.png, 084_movie.png, 085_movie.png, 086_movie.png, 087_movie.png, 088_movie.png, 089_movie.png, 090_movie.png, 091_movie.png, 092_movie.png, 093_movie.png, 094_movie.png, 095_movie.png, 096_movie.png, 097_movie.png, 098_movie.png, 099_movie.png\n",
      "\n",
      "\n",
      "movie in output file movie.html\n"
     ]
    }
   ],
   "source": [
    "# turns each .png into a movie in html, this only works with the html_movie module \n",
    "movie(input_files='*.png', output_file='movie.html')"
   ]
  },
  {
   "cell_type": "markdown",
   "metadata": {},
   "source": [
    "### Model Verification\n",
    "There isn't much to do here in terms of verifying a model because I haven't really implemented a model just created a simmulation. However, I can still check that my simmulation is running correctly and doing what I want it to. I will check two things: \n",
    "1. Am I truely starting each walk in a circle? \n",
    "2. Are my walkers staying within the circle like they are supposed to?"
   ]
  },
  {
   "cell_type": "code",
   "execution_count": 26,
   "metadata": {},
   "outputs": [
    {
     "data": {
      "image/png": "[encoded data removed]",
      "text/plain": [
       "<Figure size 432x288 with 1 Axes>"
      ]
     },
     "metadata": {
      "needs_background": "light"
     },
     "output_type": "display_data"
    }
   ],
   "source": [
    "# #1. Is each new random walker truely staring in a circle.\n",
    "# to do this I will create a 'cluster' by placing one dot some radius from the center\n",
    "# then I will call start walker over and over again and plot where they start\n",
    "# they should, in theory start in a circle a little bigger than that radius\n",
    "\n",
    "L = 100  # lattice size\n",
    "lattice1 = np.zeros((L, L))  # the lattice itself\n",
    "lattice1[int(L/2), int(L/2)] = 1   # seeding the middle \n",
    "lattice1[30, 70] = 1 # seed another point \n",
    "\n",
    "# plot a bunch of test starting steps \n",
    "for i in range(0, 70): \n",
    "#     x, y = start_walker_circle(lattice1)\n",
    "        # this actually breaks (as it should) because after we add each new dot, the\n",
    "        # next one we add will be 5 further out from that one (that one was the new\n",
    "        # max radius). So quickly it will be too big for the lattice. So i just copied\n",
    "        # my code from 'start walker' minus the adding 5 part: \n",
    "    # return x and y coordinates of where to start the next random walker based on the current lattice\n",
    "    r = get_radius(lattice)\n",
    "    angle = nprnd.random() * 2 * np.pi\n",
    "    x = int(np.sin(angle) * r)\n",
    "    y = int(np.cos(angle) * r)\n",
    "    x, y =  int(L / 2) + x, int(L / 2) + y\n",
    "    lattice1[x][y] = 1\n",
    "\n",
    "# plot \n",
    "plt.imshow(lattice1, cmap='Greys', interpolation='nearest')\n",
    "plt.title('DLA cluster')\n",
    "plt.show()"
   ]
  },
  {
   "cell_type": "code",
   "execution_count": 18,
   "metadata": {},
   "outputs": [
    {
     "data": {
      "image/png": "[encoded data removed]",
      "text/plain": [
       "<Figure size 432x288 with 1 Axes>"
      ]
     },
     "metadata": {
      "needs_background": "light"
     },
     "output_type": "display_data"
    }
   ],
   "source": [
    "# #2. are my walkers staying within the circle? For this I will just plot the \n",
    "# trajectory of one walker I start within the circle to make sure it stays inside. \n",
    "# below is modified code from 'run_walker_circle' \n",
    "\n",
    "L = 100  # lattice size\n",
    "lattice2 = np.zeros((L, L)) \n",
    "lattice2[int(L/2), int(L/2)] = 1 \n",
    "lattice2[50, 51] = 1  # NEW --> walker will stay inside a radius of 6\n",
    "\n",
    "length = 500 # NEW --> walk length \n",
    "\n",
    "x_coordinate = []  # new --> keep track of the walker so i can print it \n",
    "y_coordinate = []\n",
    "\n",
    "L = lattice2.shape[0]\n",
    "r = get_radius(lattice2)\n",
    "x, y = start_walker_circle(lattice2)\n",
    "\n",
    "for i in range (0, length): \n",
    "    while True:  \n",
    "        directions = int(np.floor(nprnd.random(1) * 4))\n",
    "        dx = (directions == 0) - 1.0 * (directions == 1)\n",
    "        dy = (directions == 2) - 1.0 * (directions == 3)\n",
    "        potential_new_x = x + dx\n",
    "        potential_new_y = y + dy\n",
    "        potential_new_radius = np.sqrt((L / 2 - potential_new_x) ** 2 + (L / 2 - potential_new_y) ** 2)\n",
    "        if potential_new_radius < r + 5:  \n",
    "            break\n",
    "    x = x + int(dx)  \n",
    "    y = y + int(dy)\n",
    "    x_coordinate.append(x) # NEW --> keep track of walker \n",
    "    y_coordinate.append(y) # NEW \n",
    "    # NEW --> REMOVED THE STOPPING CONDITION, RUN A SET # TIMES \n",
    "        \n",
    "plt.plot(x_coordinate, y_coordinate, 'b-o')\n",
    "plt.title('constrained random walk within radius')\n",
    "plt.xlabel('x coordinate')\n",
    "plt.ylabel('y coordinate')\n",
    "plt.xlim(0, 100)\n",
    "plt.ylim(0, 100)\n",
    "plt.show()"
   ]
  },
  {
   "cell_type": "markdown",
   "metadata": {},
   "source": [
    "### Discussion\n",
    "How does the size grow with time? Is this a power law? If yes, which one? <br> \n",
    "The function of width over time ceartainly isn't linear, it appears to be a power law. For a power law equation $y = kx^a$ by looking at the graph I would guess a to be $\\frac{1}{2}$ or $\\frac{1}{4}$. I will fit it below: "
   ]
  },
  {
   "cell_type": "code",
   "execution_count": 33,
   "metadata": {},
   "outputs": [
    {
     "data": {
      "image/png": "[encoded data removed]",
      "text/plain": [
       "<Figure size 432x288 with 1 Axes>"
      ]
     },
     "metadata": {
      "needs_background": "light"
     },
     "output_type": "display_data"
    },
    {
     "name": "stdout",
     "output_type": "stream",
     "text": [
      "Fit equation in form: a + bx^c \n",
      "a = 1.7563926723045495\n",
      "b = 1.2033978519174018\n",
      "c = 0.6122942027655875\n"
     ]
    }
   ],
   "source": [
    "# run the first cell to get the width as a function of time \n",
    "# --> t \n",
    "# --> width\n",
    "plt.plot(t, width)\n",
    "plt.title(\"total cluster width vs. time\")\n",
    "plt.ylabel(\"cluster width\")\n",
    "plt.xlabel(\"num walkers released / time\")\n",
    "\n",
    "# Find a fit:\n",
    "def power(x, a, b, c): \n",
    "    return a + b*x**c\n",
    "\n",
    "from scipy.optimize import curve_fit\n",
    "popt, pcov = curve_fit(power, t, width, p0=[1, 1, 1/2])\n",
    "a = popt[0]\n",
    "b = popt[1]\n",
    "c = popt[2]\n",
    "\n",
    "plt.plot(t, power(t, a, b, c), label='power fit')\n",
    "plt.show()\n",
    "\n",
    "print(\"Fit equation in form: a + bx^c \\na = \"+str(a)+\"\\nb = \"+str(b)+\"\\nc = \"+str(c))"
   ]
  },
  {
   "cell_type": "markdown",
   "metadata": {},
   "source": [
    "### Conclusion"
   ]
  },
  {
   "cell_type": "markdown",
   "metadata": {},
   "source": [
    "In conclusion, it is clear that in order to maintain efficiency of a DLA simulation it is importatnt to keep in mind adding new walkers in a growing radius around the cluster instead of in a set square containing the cluster. The major inneficiency in doing this simmulation this way is that at each point we must scan the lattice to find the current radius of the cluster. In my implementation I scanned the entire lattice resulting in $O(n^2)$ time. This is clearly ineficient. It could be impoved by just searching in a ring around the previous radius as I described in the introduction. \n",
    "\n",
    "I have also shown that the width of the cluster over time grows with roughly the power law $x^{\\frac{1}{2}}$. This makes sense because the cluster is a circle with area proportional to $r^2$, so as we add a steady stream of particles to the cluster the diameter will not grow linearly because more and more area is needed to grow in order to grow the diameter. "
   ]
  },
  {
   "cell_type": "code",
   "execution_count": null,
   "metadata": {},
   "outputs": [],
   "source": []
  }
 ],
 "metadata": {
  "kernelspec": {
   "display_name": "Python 3",
   "language": "python",
   "name": "python3"
  },
  "language_info": {
   "codemirror_mode": {
    "name": "ipython",
    "version": 3
   },
   "file_extension": ".py",
   "mimetype": "text/x-python",
   "name": "python",
   "nbconvert_exporter": "python",
   "pygments_lexer": "ipython3",
   "version": "3.7.4"
  }
 },
 "nbformat": 4,
 "nbformat_minor": 2
}
